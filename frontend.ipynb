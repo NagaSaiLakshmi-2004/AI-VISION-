{
  "cells": [
    {
      "cell_type": "code",
      "source": [
        "!pip install streamlit"
      ],
      "metadata": {
        "id": "xik6FW4bJTTY"
      },
      "execution_count": null,
      "outputs": []
    },
    {
      "cell_type": "code",
      "source": [
        "!pip install streamlit pyngrok\n"
      ],
      "metadata": {
        "id": "qOHWStTOPCj_"
      },
      "execution_count": null,
      "outputs": []
    },
    {
      "cell_type": "code",
      "source": [
        "!pip install torch torchvision\n"
      ],
      "metadata": {
        "id": "cEMv0kNeQOSQ"
      },
      "execution_count": null,
      "outputs": []
    },
    {
      "cell_type": "code",
      "source": [
        "!pip install rembg\n"
      ],
      "metadata": {
        "id": "Lic7S_hMRG8s"
      },
      "execution_count": null,
      "outputs": []
    },
    {
      "cell_type": "code",
      "source": [
        "!pip install rembg onnxruntime onnxruntime-gpu\n"
      ],
      "metadata": {
        "id": "WFMY6q-FRYAk"
      },
      "execution_count": null,
      "outputs": []
    },
    {
      "cell_type": "code",
      "source": [
        "%%writefile ai_vision_extract_app.py\n",
        "import streamlit as st\n",
        "from PIL import Image\n",
        "import numpy as np\n",
        "import io\n",
        "from rembg import remove\n",
        "import zipfile\n",
        "\n",
        "# ------------------ Masking Function ------------------\n",
        "def mask_object(img):\n",
        "    buf = io.BytesIO()\n",
        "    img.save(buf, format=\"PNG\")\n",
        "    input_bytes = buf.getvalue()\n",
        "\n",
        "    output_bytes = remove(input_bytes)\n",
        "    masked_img = Image.open(io.BytesIO(output_bytes)).convert(\"RGBA\")\n",
        "\n",
        "    data = np.array(masked_img)\n",
        "    alpha_channel = data[..., 3]\n",
        "\n",
        "    # Transparent -> black\n",
        "    data[..., :3][alpha_channel == 0] = [0, 0, 0]\n",
        "    data[..., 3] = 255\n",
        "\n",
        "    return Image.fromarray(data)\n",
        "\n",
        "# ------------------ Page Config ------------------\n",
        "st.set_page_config(\n",
        "    page_title=\"🎨 AI Object Extractor\",\n",
        "    layout=\"wide\",\n",
        "    initial_sidebar_state=\"expanded\"\n",
        ")\n",
        "\n",
        "# ------------------ Sidebar ------------------\n",
        "st.sidebar.header(\"Customize Dashboard\")\n",
        "bg_color = st.sidebar.color_picker(\"Dashboard Background\", \"#E6E6FA\")\n",
        "sidebar_start = st.sidebar.color_picker(\"Sidebar Gradient Start\", \"#FFB6C1\")\n",
        "sidebar_end = st.sidebar.color_picker(\"Sidebar Gradient End\", \"#87CEFA\")\n",
        "\n",
        "st.sidebar.header(\"Upload Your Images\")\n",
        "uploaded_files = st.sidebar.file_uploader(\n",
        "    \"Choose image(s) (JPG, PNG)\",\n",
        "    type=[\"jpg\",\"jpeg\",\"png\"],\n",
        "    accept_multiple_files=True\n",
        ")\n",
        "\n",
        "st.sidebar.markdown(\"\"\"\n",
        "**Instructions:**\n",
        "- Upload one or more images.\n",
        "- Row 1: Original and Masked images side by side.\n",
        "- Row 2: Overlay slider & overlay image in the middle (same size as above).\n",
        "- Download each masked image or all as ZIP.\n",
        "\"\"\")\n",
        "\n",
        "# ------------------ Custom CSS ------------------\n",
        "st.markdown(f\"\"\"\n",
        "<style>\n",
        "[data-testid=\"stAppViewContainer\"] {{\n",
        "    background-color: {bg_color};\n",
        "}}\n",
        "h1 {{\n",
        "    text-align: center;\n",
        "    color: white;\n",
        "    font-family: 'Arial', sans-serif;\n",
        "}}\n",
        ".css-1d391kg {{\n",
        "    background: linear-gradient(to bottom, {sidebar_start}, {sidebar_end});\n",
        "    color: white;\n",
        "    font-weight: bold;\n",
        "}}\n",
        "h2, h3 {{\n",
        "    color: #4B0082;\n",
        "}}\n",
        ".stButton button {{\n",
        "    background-color: #FF69B4;\n",
        "    color: white;\n",
        "    border-radius: 10px;\n",
        "    height: 40px;\n",
        "    width: 220px;\n",
        "    font-size: 16px;\n",
        "    font-weight: bold;\n",
        "}}\n",
        "</style>\n",
        "\"\"\", unsafe_allow_html=True)\n",
        "\n",
        "# ------------------ Header ------------------\n",
        "st.markdown(f\"\"\"\n",
        "<div style='text-align: center; padding: 20px;\n",
        "            background: linear-gradient(to right, {sidebar_start}, {sidebar_end});\n",
        "            color: white; border-radius:10px;'>\n",
        "    <h1>🤖 AI Object Extractor Dashboard</h1>\n",
        "    <p style='text-align: center; font-size:18px; color:white;'>\n",
        "    Upload images, extract objects, and download results!</p>\n",
        "    <hr style='border:2px solid white'>\n",
        "</div>\n",
        "\"\"\", unsafe_allow_html=True)\n",
        "\n",
        "# ------------------ Main Processing ------------------\n",
        "if uploaded_files:\n",
        "    zip_buffer = io.BytesIO()\n",
        "    with zipfile.ZipFile(zip_buffer, \"a\", zipfile.ZIP_DEFLATED) as zip_file:\n",
        "        for uploaded_file in uploaded_files:\n",
        "            original_image = Image.open(uploaded_file).convert(\"RGB\")\n",
        "            masked_image = mask_object(original_image)\n",
        "\n",
        "            # ---------------- Row 1: Original | Masked ----------------\n",
        "            col1, col2 = st.columns(2)\n",
        "            with col1:\n",
        "                st.subheader(f\"🖼 Original: {uploaded_file.name}\")\n",
        "                st.image(original_image, use_column_width=True)\n",
        "            with col2:\n",
        "                st.subheader(f\"✨ Masked: {uploaded_file.name}\")\n",
        "                st.image(masked_image, use_column_width=True)\n",
        "\n",
        "                # Save masked for download\n",
        "                buf = io.BytesIO()\n",
        "                masked_image.save(buf, format=\"PNG\")\n",
        "                st.download_button(\n",
        "                    label=f\"📥 Download Masked\",\n",
        "                    data=buf.getvalue(),\n",
        "                    file_name=f\"masked_{uploaded_file.name}\",\n",
        "                    mime=\"image/png\"\n",
        "                )\n",
        "                zip_file.writestr(f\"masked_{uploaded_file.name}\", buf.getvalue())\n",
        "\n",
        "            st.markdown(\"---\")  # separator\n",
        "\n",
        "            # ---------------- Row 2: Overlay Slider & Image ----------------\n",
        "            st.subheader(f\"🔄 Overlay for: {uploaded_file.name}\")\n",
        "            opacity = st.slider(f\"Overlay Opacity\", 0.0, 1.0, 0.5, key=f\"slider_{uploaded_file.name}\")\n",
        "            overlay = Image.blend(original_image, masked_image.convert(\"RGB\"), alpha=opacity)\n",
        "\n",
        "            # Center overlay using columns, width same as original/masked images\n",
        "            col_left, col_center, col_right = st.columns([1, 2, 1])\n",
        "            with col_center:\n",
        "                st.image(overlay, use_column_width=True, caption=f\"Overlay ({opacity*100:.0f}%)\")\n",
        "\n",
        "    # Batch download ZIP\n",
        "    st.download_button(\n",
        "        label=\"📦 Download All Masked Images as ZIP\",\n",
        "        data=zip_buffer.getvalue(),\n",
        "        file_name=\"masked_images.zip\",\n",
        "        mime=\"application/zip\"\n",
        "    )\n",
        "\n",
        "else:\n",
        "    st.info(\"Please upload one or more images to start processing.\")\n"
      ],
      "metadata": {
        "colab": {
          "base_uri": "https://localhost:8080/"
        },
        "id": "jsV9sgKWeSJK",
        "outputId": "e87e25fc-9f87-400b-9df1-46c4ccf41957"
      },
      "execution_count": 108,
      "outputs": [
        {
          "output_type": "stream",
          "name": "stdout",
          "text": [
            "Overwriting ai_vision_extract_app.py\n"
          ]
        }
      ]
    },
    {
      "cell_type": "code",
      "source": [
        "%%writefile ai_vision_extract_app.py\n",
        "import streamlit as st\n",
        "from PIL import Image\n",
        "import numpy as np\n",
        "import io\n",
        "from rembg import remove\n",
        "import zipfile\n",
        "\n",
        "# ------------------ Masking Function ------------------\n",
        "def mask_object(img):\n",
        "    buf = io.BytesIO()\n",
        "    img.save(buf, format=\"PNG\")\n",
        "    input_bytes = buf.getvalue()\n",
        "\n",
        "    output_bytes = remove(input_bytes)\n",
        "    masked_img = Image.open(io.BytesIO(output_bytes)).convert(\"RGBA\")\n",
        "\n",
        "    data = np.array(masked_img)\n",
        "    alpha_channel = data[..., 3]\n",
        "\n",
        "    # Transparent -> black\n",
        "    data[..., :3][alpha_channel == 0] = [0, 0, 0]\n",
        "    data[..., 3] = 255\n",
        "\n",
        "    return Image.fromarray(data)\n",
        "\n",
        "# ------------------ Resize Function ------------------\n",
        "def resize_image(img, max_width=600):\n",
        "    \"\"\"Resize image maintaining aspect ratio with a fixed medium width\"\"\"\n",
        "    w_percent = (max_width / float(img.width))\n",
        "    h_size = int((float(img.height) * float(w_percent)))\n",
        "    return img.resize((max_width, h_size))\n",
        "\n",
        "# ------------------ Page Config ------------------\n",
        "st.set_page_config(\n",
        "    page_title=\"🎨 AI Object Extractor\",\n",
        "    layout=\"wide\",\n",
        "    initial_sidebar_state=\"expanded\"\n",
        ")\n",
        "\n",
        "# ------------------ Sidebar ------------------\n",
        "st.sidebar.header(\"Customize Dashboard\")\n",
        "bg_color = st.sidebar.color_picker(\"Dashboard Background\", \"#E6E6FA\")\n",
        "sidebar_start = st.sidebar.color_picker(\"Sidebar Gradient Start\", \"#FFB6C1\")\n",
        "sidebar_end = st.sidebar.color_picker(\"Sidebar Gradient End\", \"#87CEFA\")\n",
        "\n",
        "st.sidebar.header(\"Upload Your Images\")\n",
        "uploaded_files = st.sidebar.file_uploader(\n",
        "    \"Choose image(s) (JPG, PNG)\",\n",
        "    type=[\"jpg\",\"jpeg\",\"png\"],\n",
        "    accept_multiple_files=True\n",
        ")\n",
        "\n",
        "st.sidebar.markdown(\"\"\"\n",
        "**Instructions:**\n",
        "- Upload one or more images.\n",
        "- Row 1: Original and Masked images side by side.\n",
        "- Row 2: Overlay slider & overlay image in the middle.\n",
        "- Download each masked image or all as ZIP.\n",
        "\"\"\")\n",
        "\n",
        "# ------------------ Custom CSS ------------------\n",
        "st.markdown(f\"\"\"\n",
        "<style>\n",
        "[data-testid=\"stAppViewContainer\"] {{\n",
        "    background-color: {bg_color};\n",
        "}}\n",
        "h1 {{\n",
        "    text-align: center;\n",
        "    color: white;\n",
        "    font-family: 'Arial', sans-serif;\n",
        "}}\n",
        ".css-1d391kg {{\n",
        "    background: linear-gradient(to bottom, {sidebar_start}, {sidebar_end});\n",
        "    color: white;\n",
        "    font-weight: bold;\n",
        "}}\n",
        "h2, h3 {{\n",
        "    color: #4B0082;\n",
        "}}\n",
        ".stButton button {{\n",
        "    background-color: #FF69B4;\n",
        "    color: white;\n",
        "    border-radius: 10px;\n",
        "    height: 40px;\n",
        "    width: 220px;\n",
        "    font-size: 16px;\n",
        "    font-weight: bold;\n",
        "}}\n",
        "</style>\n",
        "\"\"\", unsafe_allow_html=True)\n",
        "\n",
        "# ------------------ Header ------------------\n",
        "st.markdown(f\"\"\"\n",
        "<div style='text-align: center; padding: 20px;\n",
        "            background: linear-gradient(to right, {sidebar_start}, {sidebar_end});\n",
        "            color: white; border-radius:10px;'>\n",
        "    <h1>🤖 AI Object Extractor Dashboard</h1>\n",
        "    <p style='text-align: center; font-size:18px; color:white;'>\n",
        "    Upload images, extract objects, and download results!</p>\n",
        "    <hr style='border:2px solid white'>\n",
        "</div>\n",
        "\"\"\", unsafe_allow_html=True)\n",
        "\n",
        "# ------------------ Main Processing ------------------\n",
        "if uploaded_files:\n",
        "    zip_buffer = io.BytesIO()\n",
        "    with zipfile.ZipFile(zip_buffer, \"a\", zipfile.ZIP_DEFLATED) as zip_file:\n",
        "        for uploaded_file in uploaded_files:\n",
        "            original_image = Image.open(uploaded_file).convert(\"RGB\")\n",
        "            masked_image = mask_object(original_image)\n",
        "\n",
        "            # Resize all images to medium size (bigger than before)\n",
        "            original_resized = resize_image(original_image, max_width=800)\n",
        "            masked_resized = resize_image(masked_image, max_width=800)\n",
        "\n",
        "            # ---------------- Row 1: Original | Masked ----------------\n",
        "            col1, col2 = st.columns(2)\n",
        "            with col1:\n",
        "                st.subheader(f\"🖼 Original: {uploaded_file.name}\")\n",
        "                st.image(original_resized, width=600)\n",
        "            with col2:\n",
        "                st.subheader(f\"✨ Masked: {uploaded_file.name}\")\n",
        "                st.image(masked_resized, width=600)\n",
        "\n",
        "                # Save masked for download\n",
        "                buf = io.BytesIO()\n",
        "                masked_image.save(buf, format=\"PNG\")\n",
        "                st.download_button(\n",
        "                    label=f\"📥 Download Masked\",\n",
        "                    data=buf.getvalue(),\n",
        "                    file_name=f\"masked_{uploaded_file.name}\",\n",
        "                    mime=\"image/png\"\n",
        "                )\n",
        "                zip_file.writestr(f\"masked_{uploaded_file.name}\", buf.getvalue())\n",
        "\n",
        "            st.markdown(\"---\")  # separator\n",
        "\n",
        "            # ---------------- Row 2: Overlay Slider & Image ----------------\n",
        "            st.subheader(f\"🔄 Overlay for: {uploaded_file.name}\")\n",
        "            opacity = st.slider(f\"Overlay Opacity\", 0.0, 1.0, 0.5, key=f\"slider_{uploaded_file.name}\")\n",
        "            overlay = Image.blend(original_resized, masked_resized.convert(\"RGB\"), alpha=opacity)\n",
        "\n",
        "            # Center overlay using columns\n",
        "            col_left, col_center, col_right = st.columns([1, 2, 1])\n",
        "            with col_center:\n",
        "                st.image(overlay, width=600, caption=f\"Overlay ({opacity*100:.0f}%)\")\n",
        "\n",
        "    # Batch download ZIP\n",
        "    st.download_button(\n",
        "        label=\"📦 Download All Masked Images as ZIP\",\n",
        "        data=zip_buffer.getvalue(),\n",
        "        file_name=\"masked_images.zip\",\n",
        "        mime=\"application/zip\"\n",
        "    )\n",
        "\n",
        "else:\n",
        "    st.info(\"Please upload one or more images to start processing.\")\n"
      ],
      "metadata": {
        "colab": {
          "base_uri": "https://localhost:8080/"
        },
        "id": "Nx0qlwEGf4oL",
        "outputId": "bc54ecd5-8ba9-4b65-e6f6-20d41358f5e9"
      },
      "execution_count": 132,
      "outputs": [
        {
          "output_type": "stream",
          "name": "stdout",
          "text": [
            "Overwriting ai_vision_extract_app.py\n"
          ]
        }
      ]
    },
    {
      "cell_type": "code",
      "source": [
        "!nohup streamlit run ai_vision_extract_app.py --server.port 8501 > app.log 2>&1 &\n",
        "print(\"✅ Streamlit app is starting...\")\n"
      ],
      "metadata": {
        "colab": {
          "base_uri": "https://localhost:8080/"
        },
        "id": "LPT80rzRPNIN",
        "outputId": "3ae46432-7c57-4393-ca9d-77eab94476b3"
      },
      "execution_count": 133,
      "outputs": [
        {
          "output_type": "stream",
          "name": "stdout",
          "text": [
            "✅ Streamlit app is starting...\n"
          ]
        }
      ]
    },
    {
      "cell_type": "code",
      "source": [
        "from pyngrok import ngrok, conf\n",
        "\n",
        "# 🔑 Paste your token here\n",
        "authtoken = \"33PuSMOS4Wq7eAt4lJDrPJHj6NH_3vZ2C5FD6i9xpbSpv3Utp\"\n",
        "\n",
        "# Install token\n",
        "ngrok.set_auth_token(authtoken)\n",
        "\n",
        "print(\"✅ ngrok auth token set!\")\n"
      ],
      "metadata": {
        "colab": {
          "base_uri": "https://localhost:8080/"
        },
        "id": "QdC4zbskPlDK",
        "outputId": "bc8082e5-17a0-4e71-a696-30c0b6c04746"
      },
      "execution_count": 134,
      "outputs": [
        {
          "output_type": "stream",
          "name": "stdout",
          "text": [
            "✅ ngrok auth token set!\n"
          ]
        }
      ]
    },
    {
      "cell_type": "code",
      "source": [
        "# Run Streamlit in background\n",
        "!nohup streamlit run ai_vision_extract_app.py --server.port 8501 > app.log 2>&1 &\n",
        "\n",
        "# Kill old tunnels\n",
        "ngrok.kill()\n",
        "\n",
        "# Open a tunnel\n",
        "public_url = ngrok.connect(8501)\n",
        "print(\"🚀 Your Streamlit app is live at:\", public_url)\n"
      ],
      "metadata": {
        "colab": {
          "base_uri": "https://localhost:8080/"
        },
        "id": "IxlF2nbyPrFO",
        "outputId": "e34da281-59cf-4d01-f177-d918da73d456"
      },
      "execution_count": 135,
      "outputs": [
        {
          "output_type": "stream",
          "name": "stdout",
          "text": [
            "🚀 Your Streamlit app is live at: NgrokTunnel: \"https://julie-dichroscopic-renata.ngrok-free.dev\" -> \"http://localhost:8501\"\n"
          ]
        }
      ]
    },
    {
      "cell_type": "code",
      "source": [],
      "metadata": {
        "id": "YjkfSDxLf6d4"
      },
      "execution_count": null,
      "outputs": []
    }
  ],
  "metadata": {
    "accelerator": "GPU",
    "colab": {
      "gpuType": "T4",
      "provenance": []
    },
    "kernelspec": {
      "display_name": "Python 3",
      "name": "python3"
    },
    "language_info": {
      "name": "python"
    }
  },
  "nbformat": 4,
  "nbformat_minor": 0
}